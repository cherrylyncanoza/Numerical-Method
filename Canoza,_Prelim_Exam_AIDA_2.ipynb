{
  "nbformat": 4,
  "nbformat_minor": 0,
  "metadata": {
    "colab": {
      "provenance": [],
      "authorship_tag": "ABX9TyN17Cc9lTzPhn1yzQ22tMXf",
      "include_colab_link": true
    },
    "kernelspec": {
      "name": "python3",
      "display_name": "Python 3"
    },
    "language_info": {
      "name": "python"
    }
  },
  "cells": [
    {
      "cell_type": "markdown",
      "metadata": {
        "id": "view-in-github",
        "colab_type": "text"
      },
      "source": [
        "<a href=\"https://colab.research.google.com/github/cherrylyncanoza/Numerical-Method/blob/main/Canoza%2C_Prelim_Exam_AIDA_2.ipynb\" target=\"_parent\"><img src=\"https://colab.research.google.com/assets/colab-badge.svg\" alt=\"Open In Colab\"/></a>"
      ]
    },
    {
      "cell_type": "markdown",
      "source": [
        "##**Prelim Exam**\n",
        "###**Canoza, Cherrylyn S.**\n",
        "#####*201913191*#####\n",
        "#####*CPE AIDA 2*#####\n",
        "#####*Submitted to: Engr. Cherry Casuat*#####\n"
      ],
      "metadata": {
        "id": "74eNLTlUJHJP"
      }
    },
    {
      "cell_type": "markdown",
      "source": [
        "### **Part 2 Linear Algebra Review**\n",
        "\n",
        "##### **Part 2: A**"
      ],
      "metadata": {
        "id": "sCdeZbIgHZnj"
      }
    },
    {
      "cell_type": "code",
      "execution_count": 19,
      "metadata": {
        "colab": {
          "base_uri": "https://localhost:8080/"
        },
        "id": "QzN3EJkz8V2i",
        "outputId": "11d1c390-b974-4d35-d5bc-d50574dd136f"
      },
      "outputs": [
        {
          "output_type": "stream",
          "name": "stdout",
          "text": [
            "0.0\n",
            "\n",
            "\n",
            "I Matrix Column:  [ 1.  -0.5  1. ]\n",
            "J Matrix Column:  [-2.  1. -2.]\n",
            "Inner Product:  -4.5\n",
            "Norm i matrix:  1.5\n",
            "Norm j matrix:  3.0\n",
            "Independent\n",
            "\n",
            "I Matrix Column:  [ 1.  -0.5  1. ]\n",
            "J Matrix Column:  [-1.   0.5 -1. ]\n",
            "Inner Product:  -2.25\n",
            "Norm i matrix:  1.5\n",
            "Norm j matrix:  1.5\n",
            "Independent\n",
            "\n",
            "I Matrix Column:  [-2.  1. -2.]\n",
            "J Matrix Column:  [ 1.  -0.5  1. ]\n",
            "Inner Product:  -4.5\n",
            "Norm i matrix:  3.0\n",
            "Norm j matrix:  1.5\n",
            "Independent\n",
            "\n",
            "I Matrix Column:  [-2.  1. -2.]\n",
            "J Matrix Column:  [-1.   0.5 -1. ]\n",
            "Inner Product:  4.5\n",
            "Norm i matrix:  3.0\n",
            "Norm j matrix:  1.5\n",
            "Dependent\n",
            "\n",
            "I Matrix Column:  [-1.   0.5 -1. ]\n",
            "J Matrix Column:  [ 1.  -0.5  1. ]\n",
            "Inner Product:  -2.25\n",
            "Norm i matrix:  1.5\n",
            "Norm j matrix:  1.5\n",
            "Independent\n",
            "\n",
            "I Matrix Column:  [-1.   0.5 -1. ]\n",
            "J Matrix Column:  [-2.  1. -2.]\n",
            "Inner Product:  4.5\n",
            "Norm i matrix:  1.5\n",
            "Norm j matrix:  3.0\n",
            "Dependent\n",
            "\n"
          ]
        }
      ],
      "source": [
        "import numpy as np\n",
        "\n",
        "A = np.array(\n",
        "    [\n",
        "        [1, -2 ,-1],\n",
        "        [-0.5, 1, 0.5],\n",
        "        [1, -2, -1],\n",
        "    ])\n",
        "\n",
        "print(np.linalg.det(A));\n",
        "print('\\n')\n",
        "\n",
        "for i in range(A.shape[0]):\n",
        "    for j in range(A.shape[0]):\n",
        "        if i != j:\n",
        "            inner_product = np.inner(\n",
        "                A[:,i],\n",
        "                A[:,j]\n",
        "            )\n",
        "            norm_i = np.linalg.norm(A[:,i])\n",
        "            norm_j = np.linalg.norm(A[:,j])\n",
        "\n",
        "            print ('I Matrix Column: ', A[:,i]);\n",
        "            print ('J Matrix Column: ', A[:,j]);\n",
        "            print ('Inner Product: ', inner_product);\n",
        "            print ('Norm i matrix: ', norm_i);\n",
        "            print ('Norm j matrix: ', norm_j);\n",
        "            if np.abs(inner_product - norm_j * norm_i) < 1E-5:\n",
        "                print ('Dependent\\n');\n",
        "            else:\n",
        "                print ('Independent\\n');"
      ]
    },
    {
      "cell_type": "markdown",
      "source": [
        "##### **Part 2: B**"
      ],
      "metadata": {
        "id": "W7HJvABJI7G5"
      }
    },
    {
      "cell_type": "code",
      "source": [
        "import numpy as np\n",
        "from numpy import linalg as linalg_norm\n",
        "\n",
        "A = [13,20]\n",
        "B = [-2,17]\n",
        "\n",
        "inner = np.inner(A,B)\n",
        "print(f'Inner product of A and B:',inner)\n",
        "\n",
        "normA = linalg_norm.norm(A)\n",
        "print(f'The norm of A:', normA)\n",
        "\n",
        "normB = linalg_norm.norm(B)\n",
        "print(f'The norm of B:', normB)\n",
        "\n",
        "normA = A/normA\n",
        "normB = B/normB\n",
        "dotProduct = np.dot(normA,normB)\n",
        "angle = np.arccos(dotProduct)\n",
        "print(f'The angle between A and B represented by is 0 =', angle)"
      ],
      "metadata": {
        "colab": {
          "base_uri": "https://localhost:8080/"
        },
        "id": "GzL5d5mDGLAq",
        "outputId": "bb2cab91-f904-4b15-b55a-b29c064f7c03"
      },
      "execution_count": 20,
      "outputs": [
        {
          "output_type": "stream",
          "name": "stdout",
          "text": [
            "Inner product of A and B: 314\n",
            "The norm of A: 23.853720883753127\n",
            "The norm of B: 17.11724276862369\n",
            "The angle between A and B represented by is 0 = 0.6934839651580481\n"
          ]
        }
      ]
    }
  ]
}