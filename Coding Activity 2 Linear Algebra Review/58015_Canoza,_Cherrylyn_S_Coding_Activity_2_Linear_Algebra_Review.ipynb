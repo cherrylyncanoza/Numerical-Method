{
  "nbformat": 4,
  "nbformat_minor": 0,
  "metadata": {
    "colab": {
      "name": "58015_Canoza, Cherrylyn S_Coding Activity 2: Linear Algebra Review",
      "provenance": [],
      "collapsed_sections": []
    },
    "kernelspec": {
      "display_name": "Python 3",
      "language": "python",
      "name": "python3"
    },
    "language_info": {
      "codemirror_mode": {
        "name": "ipython",
        "version": 3
      },
      "file_extension": ".py",
      "mimetype": "text/x-python",
      "name": "python",
      "nbconvert_exporter": "python",
      "pygments_lexer": "ipython3",
      "version": "3.8.3"
    }
  },
  "cells": [
    {
      "cell_type": "markdown",
      "metadata": {
        "id": "view-in-github"
      },
      "source": [
        "<a href=\"https://colab.research.google.com/github/dyjdlopez/numeth2021/blob/main/Week%202%20-%20Linear%20Algebra%20Review/NuMeth_1_Linear_Algebra_Review.ipynb\" target=\"_parent\"><img src=\"https://colab.research.google.com/assets/colab-badge.svg\" alt=\"Open In Colab\"/></a>"
      ]
    },
    {
      "cell_type": "markdown",
      "metadata": {
        "id": "CPi23qJFCw2L"
      },
      "source": [
        "# **Linear Algebra**\n",
        "\n",
        "\n",
        "---\n",
        "**Canoza, Cherrylyn S.**\n",
        "\n",
        "*BS CpE*\n",
        "\n",
        "*Numerical Methods | 58015*\n",
        "\n",
        "*click me: https://github.com/cherrylyncanoza/Numerical-Method/tree/main/Coding%20Activity%202%20Linear%20Algebra%20Review*\n",
        "\n",
        "---\n",
        "\n",
        "\n",
        "\n",
        "Linear Algebra is one of the fundamental mathematics for Artificial Intelligence Development and also Computer Vision. We will see the applications of Linear Algebra in advanced mathematical techniques such as optimization, vectorized programming, and matrix manipulations. Today we will try to understand the basics of Linear Algebra using Python."
      ]
    },
    {
      "cell_type": "markdown",
      "metadata": {
        "id": "zfQWDrsEDzfi"
      },
      "source": [
        "## 1. Vectors\n",
        "NumPy or Numerical Python is a package or library that allows programmers to code and model computations and see them in action. You can check the [NumPy documentation](https://numpy.org/doc/stable/reference/index.html) on how to use their APIs.\n",
        "\n"
      ]
    },
    {
      "cell_type": "code",
      "metadata": {
        "id": "NyKiAJagCr23",
        "colab": {
          "base_uri": "https://localhost:8080/",
          "height": 0
        },
        "outputId": "9c388e37-7658-474b-ba46-0dc999ff0244"
      },
      "source": [
        "## You can install NumPy in your local machine by doing the following line without the \"!\"\n",
        "!pip install numpy\n",
        "## But in Google Colab NumPy is already installed in your session.\n",
        "import numpy as np\n",
        "print(f'NumPy library version: {np.__version__}')"
      ],
      "execution_count": 2,
      "outputs": [
        {
          "output_type": "stream",
          "text": [
            "Requirement already satisfied: numpy in /usr/local/lib/python3.6/dist-packages (1.19.5)\n",
            "NumPy library version: 1.19.5\n"
          ],
          "name": "stdout"
        }
      ]
    },
    {
      "cell_type": "markdown",
      "metadata": {
        "id": "wr7iZs8-ECIh"
      },
      "source": [
        "### Defining Vectors, Matrices, and Tensors\n",
        "Vectors, Matrices, and Tensors are the fundamental objects in Linear Algebra programming. We'll be defining each of these objects specifically in the Computer Science/Engineering perspective since it would be much confusing if we consider their Physics and Pure Mathematics definitions."
      ]
    },
    {
      "cell_type": "markdown",
      "metadata": {
        "id": "hXyQT1GoEICC"
      },
      "source": [
        "#### <i>Scalars</i>\n",
        "Scalars are numerical entities that are represented by a single value. "
      ]
    },
    {
      "cell_type": "code",
      "metadata": {
        "id": "euMYAk53D96k",
        "colab": {
          "base_uri": "https://localhost:8080/",
          "height": 0
        },
        "outputId": "10a265c2-6d4d-476e-d22b-70b2c7907752"
      },
      "source": [
        "x = np.array(8)\n",
        "y = np.array(4)\n",
        "x+y"
      ],
      "execution_count": 3,
      "outputs": [
        {
          "output_type": "execute_result",
          "data": {
            "text/plain": [
              "12"
            ]
          },
          "metadata": {
            "tags": []
          },
          "execution_count": 3
        }
      ]
    },
    {
      "cell_type": "markdown",
      "metadata": {
        "id": "FJWsNnsnEKPR"
      },
      "source": [
        "#### *Vectors*\n",
        "Vectors are array of numerical values or scalars that would represent any feature space. Feature spaces or simply dimensions or the parameters of an equation or a function."
      ]
    },
    {
      "cell_type": "code",
      "metadata": {
        "id": "Y6kqO2sLEOY7",
        "colab": {
          "base_uri": "https://localhost:8080/",
          "height": 0
        },
        "outputId": "62cf0cf0-8c24-458b-b8fb-ed704cd94ecf"
      },
      "source": [
        "v = np.array([5,1,6])\n",
        "v[2]"
      ],
      "execution_count": 4,
      "outputs": [
        {
          "output_type": "execute_result",
          "data": {
            "text/plain": [
              "6"
            ]
          },
          "metadata": {
            "tags": []
          },
          "execution_count": 4
        }
      ]
    },
    {
      "cell_type": "markdown",
      "metadata": {
        "id": "UpTSGTl0EOqx"
      },
      "source": [
        "#### *Matrices*\n",
        "Matrices are array of vectors or a multi-dimensional array for features for an equation or function."
      ]
    },
    {
      "cell_type": "code",
      "metadata": {
        "id": "9RyugRXrEQab",
        "colab": {
          "base_uri": "https://localhost:8080/",
          "height": 0
        },
        "outputId": "a55d109f-3efb-4ba0-ab49-9912a6816a6b"
      },
      "source": [
        "X = np.array([[3,8,1], [-9,2,5], [7,-3,-4]])\n",
        "X[0,2]"
      ],
      "execution_count": 5,
      "outputs": [
        {
          "output_type": "execute_result",
          "data": {
            "text/plain": [
              "1"
            ]
          },
          "metadata": {
            "tags": []
          },
          "execution_count": 5
        }
      ]
    },
    {
      "cell_type": "markdown",
      "metadata": {
        "id": "7aHsGCpoEQ_h"
      },
      "source": [
        "#### *Tensors*\n",
        "Tensors are an array of matrices. Tensors have dimensions, tensors can have alternate names depending on what dimension they are in. 1D tensors can be considered as vectors, 2D tensors can be considered are matrices, and 3D onwards are called high dimensional tensors."
      ]
    },
    {
      "cell_type": "code",
      "metadata": {
        "id": "0LsB8OX7EWiJ",
        "colab": {
          "base_uri": "https://localhost:8080/",
          "height": 0
        },
        "outputId": "494bfff4-215d-4682-d692-f3b6d2c78647"
      },
      "source": [
        "T = np.array([\n",
        "                [[3,8,1], [-9,2,5], [7,-3,-4]],\n",
        "                [[-2,1,0], [7,4,-1], [3,10,1]]\n",
        "])\n",
        "T"
      ],
      "execution_count": 6,
      "outputs": [
        {
          "output_type": "execute_result",
          "data": {
            "text/plain": [
              "array([[[ 3,  8,  1],\n",
              "        [-9,  2,  5],\n",
              "        [ 7, -3, -4]],\n",
              "\n",
              "       [[-2,  1,  0],\n",
              "        [ 7,  4, -1],\n",
              "        [ 3, 10,  1]]])"
            ]
          },
          "metadata": {
            "tags": []
          },
          "execution_count": 6
        }
      ]
    },
    {
      "cell_type": "markdown",
      "metadata": {
        "id": "bpwgaV-mESxA"
      },
      "source": [
        "Here's a visual representation of the data types that we are going to use. <br>\n",
        "<img src=\"https://static.javatpoint.com/tutorial/pytorch/images/pytorch-tensors.png\">\n",
        "\n"
      ]
    },
    {
      "cell_type": "markdown",
      "metadata": {
        "id": "DuSXe7etEZPQ"
      },
      "source": [
        "### Describing Tensors\n",
        "\n",
        "Describing tensors is very important if we want to perform basic to advanced operations with them. The fundamental ways in describing tensors are knowing their shape, size, and dimensions.\n"
      ]
    },
    {
      "cell_type": "markdown",
      "metadata": {
        "id": "SwgpdKt9Em2J"
      },
      "source": [
        "#### *Shapes*\n",
        "The shape of a tensor tells us how many rows and columns are there in an axis.\n"
      ]
    },
    {
      "cell_type": "code",
      "metadata": {
        "id": "1_zIw1OsEluE",
        "colab": {
          "base_uri": "https://localhost:8080/",
          "height": 0
        },
        "outputId": "38615703-f31c-4872-c1cb-ecce38a51678"
      },
      "source": [
        "v.shape"
      ],
      "execution_count": 7,
      "outputs": [
        {
          "output_type": "execute_result",
          "data": {
            "text/plain": [
              "(3,)"
            ]
          },
          "metadata": {
            "tags": []
          },
          "execution_count": 7
        }
      ]
    },
    {
      "cell_type": "markdown",
      "metadata": {
        "id": "8ApYwUyQEpmx"
      },
      "source": [
        "#### <i>Dimensions</i>\n",
        "In NumPy the dimension of a tensor is also called axes."
      ]
    },
    {
      "cell_type": "code",
      "metadata": {
        "id": "LCfMGIsrErwR",
        "colab": {
          "base_uri": "https://localhost:8080/",
          "height": 0
        },
        "outputId": "ddfe2e97-2e47-401e-879c-99b6fde67cd9"
      },
      "source": [
        "T.ndim"
      ],
      "execution_count": 8,
      "outputs": [
        {
          "output_type": "execute_result",
          "data": {
            "text/plain": [
              "3"
            ]
          },
          "metadata": {
            "tags": []
          },
          "execution_count": 8
        }
      ]
    },
    {
      "cell_type": "markdown",
      "metadata": {
        "id": "DbzQSFQ1EsPB"
      },
      "source": [
        "#### *Sizes*\n",
        "The size of a tensor/ vector/ matrix is simply the total number of elements in it."
      ]
    },
    {
      "cell_type": "code",
      "metadata": {
        "id": "H6HtwIRBEvUB",
        "colab": {
          "base_uri": "https://localhost:8080/",
          "height": 0
        },
        "outputId": "a399d10e-ce1b-476c-c5b0-3f81349034c7"
      },
      "source": [
        "T.size"
      ],
      "execution_count": 9,
      "outputs": [
        {
          "output_type": "execute_result",
          "data": {
            "text/plain": [
              "18"
            ]
          },
          "metadata": {
            "tags": []
          },
          "execution_count": 9
        }
      ]
    },
    {
      "cell_type": "markdown",
      "metadata": {
        "id": "bfLvsCCdEvzR"
      },
      "source": [
        "## Types of Matrices\n",
        "The notation and use of matrices are probably one of the fundamentals of modern computing. Matrices are also handy representations of complex equations or multiple inter-related equations from 2-dimensional equations to even hundreds and thousands of them.\n",
        "\n",
        "Let's say for example you have $A$ and $B$ as the system of equations.\n",
        "\n",
        "$$\n",
        "A = \\left\\{\n",
        "    \\begin{array}\\\\\n",
        "        x + y \\\\ \n",
        "        4x - 10y\n",
        "    \\end{array}\n",
        "\\right. \\\\\n",
        "B = \\left\\{\n",
        "    \\begin{array}\\\\\n",
        "        x+y+z \\\\ \n",
        "        3x -2y -z \\\\\n",
        "        -x + 4y +2z\n",
        "    \\end{array}\n",
        "\\right. $$\n",
        "\n",
        "We could see that $A$ is a system of 2 equations with 2 parameters. While $B$ is a system of 3 equations with 3 parameters. We can represent them as matrices as:\n",
        "\n",
        "$$\n",
        "A=\\begin{bmatrix} 1 & 1 \\\\ 4 & {-10}\\end{bmatrix} \\\\\n",
        "B=\\begin{bmatrix} 1 & 1 & 1 \\\\ 3 & -2 & -1 \\\\ -1 & 4 & 2\\end{bmatrix}\n",
        "$$\n",
        "\n",
        "We'll represent the system of linear equations as a matrix. The entities or numbers in matrices are called the elements of a matrix. These elements are arranged and ordered in rows and columns which form the list/array-like structure of matrices. And just like arrays, these elements are indexed according to their position with respect to their rows and columns. This can be represented just like the equation below. Whereas $A$ is a matrix consisting of elements denoted by $a_{i,j}$. Denoted by $i$ is the number of rows in the matrix while $j$ stands for the number of columns.<br>\n",
        "Do note that the $size$ of a matrix is $i\\times j$.\n",
        "$$A=\\begin{bmatrix}\n",
        "a_{(0,0)}&a_{(0,1)}&\\dots&a_{(0,j-1)}\\\\\n",
        "a_{(1,0)}&a_{(1,1)}&\\dots&a_{(1,j-1)}\\\\\n",
        "\\vdots&\\vdots&\\ddots&\\vdots&\\\\\n",
        "a_{(i-1,0)}&a_{(i-1,1)}&\\dots&a_{(i-1,j-1)}\n",
        "\\end{bmatrix}\n",
        "$$\n",
        "We already gone over some of the types of matrices as vectors but we'll further discuss them in this laboratory activity. Since you already know how to describe vectors using shape, dimensions and size attributes, we'll use them to analyze these matrices."
      ]
    },
    {
      "cell_type": "code",
      "metadata": {
        "id": "uICoQit6E06p"
      },
      "source": [
        "def describe_mat(matrix):\n",
        "    print(f'Matrix:\\n{matrix}\\n\\nShape:\\t{matrix.shape}\\nRank:\\t{matrix.ndim}\\n')"
      ],
      "execution_count": 11,
      "outputs": []
    },
    {
      "cell_type": "markdown",
      "metadata": {
        "id": "Ig-gl-rSE-uq"
      },
      "source": [
        "### Matrices according to shape"
      ]
    },
    {
      "cell_type": "markdown",
      "metadata": {
        "id": "VHRtsc3fFBWw"
      },
      "source": [
        "#### *Row and Column Matrices*\n",
        "\n",
        "Row and column matrices are common in vector and matrix computations. They can also represent row and column spaces of a bigger vector space. Row and column matrices are represented by a single column or single row. So with that being, the shape of row matrices would be $1 \\times j$ and column matrices would be $i \\times 1$."
      ]
    },
    {
      "cell_type": "code",
      "metadata": {
        "id": "Ddc899xwFA7b",
        "colab": {
          "base_uri": "https://localhost:8080/",
          "height": 0
        },
        "outputId": "e3e3b0eb-dbf2-44c9-92ea-c30777e8fb5e"
      },
      "source": [
        "## Declaring a Row Matrix\n",
        "r = np.array([[1,2,3]])\n",
        "describe_mat(r)"
      ],
      "execution_count": 13,
      "outputs": [
        {
          "output_type": "stream",
          "text": [
            "Matrix:\n",
            "[[1 2 3]]\n",
            "\n",
            "Shape:\t(1, 3)\n",
            "Rank:\t2\n",
            "\n"
          ],
          "name": "stdout"
        }
      ]
    },
    {
      "cell_type": "code",
      "metadata": {
        "id": "Y_7qozkmFHIj",
        "colab": {
          "base_uri": "https://localhost:8080/",
          "height": 0
        },
        "outputId": "79d6c6d3-ee98-4583-cea5-63c647749e24"
      },
      "source": [
        "## Declaring a Column Matrix\r\n",
        "col = np.array([\r\n",
        "                [1],\r\n",
        "                [2],\r\n",
        "                [3]\r\n",
        "])\r\n",
        "describe_mat(col)"
      ],
      "execution_count": 14,
      "outputs": [
        {
          "output_type": "stream",
          "text": [
            "Matrix:\n",
            "[[1]\n",
            " [2]\n",
            " [3]]\n",
            "\n",
            "Shape:\t(3, 1)\n",
            "Rank:\t2\n",
            "\n"
          ],
          "name": "stdout"
        }
      ]
    },
    {
      "cell_type": "markdown",
      "metadata": {
        "id": "B9v0LYERFK1a"
      },
      "source": [
        "#### <i>Square Matrices</i>\n",
        "Square matrices are matrices that have the same row and column sizes. We could say a matrix is square if $i = j$. We can tweak our matrix descriptor function to determine square matrices."
      ]
    },
    {
      "cell_type": "code",
      "metadata": {
        "id": "TjUWmKseFIkL",
        "colab": {
          "base_uri": "https://localhost:8080/",
          "height": 0
        },
        "outputId": "21580a58-3795-4626-9a93-f7dafebd1d84"
      },
      "source": [
        "sq = np.array([\r\n",
        "               [2,4],\r\n",
        "               [1,3]\r\n",
        "])\r\n",
        "describe_mat(sq)"
      ],
      "execution_count": 16,
      "outputs": [
        {
          "output_type": "stream",
          "text": [
            "Matrix:\n",
            "[[2 4]\n",
            " [1 3]]\n",
            "\n",
            "Shape:\t(2, 2)\n",
            "Rank:\t2\n",
            "\n"
          ],
          "name": "stdout"
        }
      ]
    },
    {
      "cell_type": "markdown",
      "metadata": {
        "id": "QLWp8IaxFQHJ"
      },
      "source": [
        "### Matrices according to element values"
      ]
    },
    {
      "cell_type": "markdown",
      "metadata": {
        "id": "YXYw9-pxFS8Z"
      },
      "source": [
        "#### <i>Empty Matrix</i>\n",
        "\n",
        "An empty Matrix is a matrix that has no elements. It is always a subspace of any vector or matrix."
      ]
    },
    {
      "cell_type": "code",
      "metadata": {
        "id": "xlO-lmVBFRNA",
        "colab": {
          "base_uri": "https://localhost:8080/",
          "height": 0
        },
        "outputId": "f6ff4311-325c-4d18-c971-2588721fb07d"
      },
      "source": [
        "nul = np.array([])\r\n",
        "nul"
      ],
      "execution_count": 20,
      "outputs": [
        {
          "output_type": "execute_result",
          "data": {
            "text/plain": [
              "array([], dtype=float64)"
            ]
          },
          "metadata": {
            "tags": []
          },
          "execution_count": 20
        }
      ]
    },
    {
      "cell_type": "markdown",
      "metadata": {
        "id": "ofntAyNKFVkA"
      },
      "source": [
        "#### <i>Zero/Null Matrix</i>\n",
        "A zero matrix can be any rectangular matrix but with all elements having a value of 0. In most texts, the zero matrix is denoted as $\\emptyset$.<br>\n",
        "Check out: [`numpy.zeros`](https://numpy.org/doc/stable/reference/generated/numpy.zeros.html)"
      ]
    },
    {
      "cell_type": "code",
      "metadata": {
        "id": "bN4orlEzFV34",
        "colab": {
          "base_uri": "https://localhost:8080/",
          "height": 0
        },
        "outputId": "d948106c-da3d-4514-d631-0c50634449ee"
      },
      "source": [
        "zer = np.zeros((4,4))\r\n",
        "zer"
      ],
      "execution_count": 21,
      "outputs": [
        {
          "output_type": "execute_result",
          "data": {
            "text/plain": [
              "array([[0., 0., 0., 0.],\n",
              "       [0., 0., 0., 0.],\n",
              "       [0., 0., 0., 0.],\n",
              "       [0., 0., 0., 0.]])"
            ]
          },
          "metadata": {
            "tags": []
          },
          "execution_count": 21
        }
      ]
    },
    {
      "cell_type": "markdown",
      "metadata": {
        "id": "CHwAtgfaFWWY"
      },
      "source": [
        "#### <i>Ones Matrix</i>\n",
        "A ones matrix, just like zero matrices, can be any rectangular matrix but all of its elements are 1s instead of 0s.\n",
        "\n",
        "Check out: [`numpy.ones`](https://numpy.org/doc/stable/reference/generated/numpy.ones.html)"
      ]
    },
    {
      "cell_type": "code",
      "metadata": {
        "id": "wZayvxxRFYHI",
        "colab": {
          "base_uri": "https://localhost:8080/",
          "height": 0
        },
        "outputId": "006c9479-9d64-4b73-9760-ed4edefdf45d"
      },
      "source": [
        "ones = np.ones((4,4))\r\n",
        "ones"
      ],
      "execution_count": 22,
      "outputs": [
        {
          "output_type": "execute_result",
          "data": {
            "text/plain": [
              "array([[1., 1., 1., 1.],\n",
              "       [1., 1., 1., 1.],\n",
              "       [1., 1., 1., 1.],\n",
              "       [1., 1., 1., 1.]])"
            ]
          },
          "metadata": {
            "tags": []
          },
          "execution_count": 22
        }
      ]
    },
    {
      "cell_type": "markdown",
      "metadata": {
        "id": "_Y2fAx-rFYgg"
      },
      "source": [
        "#### <i>Diagonal Matrix</i>\n",
        "\n",
        "Check out: [`numpy.diag`](https://numpy.org/doc/stable/reference/generated/numpy.diag.html)"
      ]
    },
    {
      "cell_type": "code",
      "metadata": {
        "id": "qbl75HLUFaCQ",
        "colab": {
          "base_uri": "https://localhost:8080/",
          "height": 0
        },
        "outputId": "59def180-4343-4f9c-c48b-d04be1cf005c"
      },
      "source": [
        "dia = np.diag([5,1,6])\r\n",
        "dia"
      ],
      "execution_count": 23,
      "outputs": [
        {
          "output_type": "execute_result",
          "data": {
            "text/plain": [
              "array([[5, 0, 0],\n",
              "       [0, 1, 0],\n",
              "       [0, 0, 6]])"
            ]
          },
          "metadata": {
            "tags": []
          },
          "execution_count": 23
        }
      ]
    },
    {
      "cell_type": "markdown",
      "metadata": {
        "id": "pLxVWf2tFaaT"
      },
      "source": [
        "#### <i>Identity Matrix</i>\n",
        "An identity matrix is a special diagonal matrix in which the values at the diagonal are ones. In most texts, the identity matrix is denoted as $I$.<br>\n",
        "Check out: \n",
        "* [`numpy.eye`](https://numpy.org/doc/stable/reference/generated/numpy.eye.html)\n",
        "* [`numpy.identity`](https://numpy.org/doc/stable/reference/generated/numpy.identity.html)"
      ]
    },
    {
      "cell_type": "code",
      "metadata": {
        "id": "snCHNo94FcuQ",
        "colab": {
          "base_uri": "https://localhost:8080/",
          "height": 0
        },
        "outputId": "ae2f5f3e-5e09-4dde-f4f6-b75a4bb06340"
      },
      "source": [
        "I = np.eye(4)\r\n",
        "I"
      ],
      "execution_count": 24,
      "outputs": [
        {
          "output_type": "execute_result",
          "data": {
            "text/plain": [
              "array([[1., 0., 0., 0.],\n",
              "       [0., 1., 0., 0.],\n",
              "       [0., 0., 1., 0.],\n",
              "       [0., 0., 0., 1.]])"
            ]
          },
          "metadata": {
            "tags": []
          },
          "execution_count": 24
        }
      ]
    },
    {
      "cell_type": "markdown",
      "metadata": {
        "id": "4sp2nmx1FdBg"
      },
      "source": [
        "#### <i>Scalar Matrix</i>\n",
        "Since scalars cannot be explicitly operated with matrices, one workaround is to convert scalars into matrices. This is done by a matrix with all diagonal values equal to the original scalar."
      ]
    },
    {
      "cell_type": "code",
      "metadata": {
        "id": "y5kOPm9uFel4",
        "colab": {
          "base_uri": "https://localhost:8080/",
          "height": 0
        },
        "outputId": "7b4b6881-8d21-474a-be12-1229f1cff9dd"
      },
      "source": [
        "scal = 4*np.eye(4)\r\n",
        "scal"
      ],
      "execution_count": 25,
      "outputs": [
        {
          "output_type": "execute_result",
          "data": {
            "text/plain": [
              "array([[4., 0., 0., 0.],\n",
              "       [0., 4., 0., 0.],\n",
              "       [0., 0., 4., 0.],\n",
              "       [0., 0., 0., 4.]])"
            ]
          },
          "metadata": {
            "tags": []
          },
          "execution_count": 25
        }
      ]
    },
    {
      "cell_type": "markdown",
      "metadata": {
        "id": "LRidQS1PFfSB"
      },
      "source": [
        "#### <i>Upper Triangular Matrix</i>\n",
        "An upper triangular matrix is a matrix that has no values below the diagonal."
      ]
    },
    {
      "cell_type": "code",
      "metadata": {
        "id": "Hznqw8iIFhPo",
        "colab": {
          "base_uri": "https://localhost:8080/",
          "height": 0
        },
        "outputId": "e36544a7-791a-4886-e8f7-bcb5337ceb3e"
      },
      "source": [
        "u_t = np.array ([\r\n",
        "                   [1,1,1],\r\n",
        "                   [0,1,2],\r\n",
        "                   [0,0,11]\r\n",
        "])\r\n",
        "u_t"
      ],
      "execution_count": 28,
      "outputs": [
        {
          "output_type": "execute_result",
          "data": {
            "text/plain": [
              "array([[ 1,  1,  1],\n",
              "       [ 0,  1,  2],\n",
              "       [ 0,  0, 11]])"
            ]
          },
          "metadata": {
            "tags": []
          },
          "execution_count": 28
        }
      ]
    },
    {
      "cell_type": "markdown",
      "metadata": {
        "id": "fIt_zh7vFhuy"
      },
      "source": [
        "#### <i>Lower Triangular Matrix</i>\n",
        "\n",
        "\n",
        "A lower triangular matrix is a matrix that has no values above the diagonal."
      ]
    },
    {
      "cell_type": "code",
      "metadata": {
        "id": "L8AHzCphFjTh",
        "colab": {
          "base_uri": "https://localhost:8080/",
          "height": 0
        },
        "outputId": "7cbff49d-0d55-4a87-b313-eb3006ed1eaf"
      },
      "source": [
        "l_t = np.array ([\r\n",
        "                   [1,0,0],\r\n",
        "                   [1,1,0],\r\n",
        "                   [21,2,-1]\r\n",
        "])\r\n",
        "l_t"
      ],
      "execution_count": 31,
      "outputs": [
        {
          "output_type": "execute_result",
          "data": {
            "text/plain": [
              "array([[ 1,  0,  0],\n",
              "       [ 1,  1,  0],\n",
              "       [21,  2, -1]])"
            ]
          },
          "metadata": {
            "tags": []
          },
          "execution_count": 31
        }
      ]
    },
    {
      "cell_type": "markdown",
      "metadata": {
        "id": "YrHljLnqFkGp"
      },
      "source": [
        "# Matrix / Tensor Algebra\n",
        "Moving forward with matrices, vectors, and tensors. We'll try to see them in action using the commonly used operations for tensors. We will now dwell on the concepts and applications of Tensor Algebra"
      ]
    },
    {
      "cell_type": "markdown",
      "metadata": {
        "id": "DHOcEAhmFnqx"
      },
      "source": [
        "## Arithmetic / Element-wise Operations\n",
        "Check out: \n",
        "* [`numpy.add`](https://numpy.org/doc/stable/reference/generated/numpy.add.html)\n",
        "* [`numpy.sum`](https://numpy.org/doc/stable/reference/generated/numpy.sum.html)\n",
        "* [`numpy.subtract`](https://numpy.org/doc/stable/reference/generated/numpy.subtract.html)\n",
        "* [`numpy.multiply`](https://numpy.org/doc/stable/reference/generated/numpy.multiply.html)\n",
        "* [`numpy.square`](https://numpy.org/doc/stable/reference/generated/numpy.square.html)\n",
        "* [`numpy.divide`](https://numpy.org/doc/stable/reference/generated/numpy.divide.html)"
      ]
    },
    {
      "cell_type": "code",
      "metadata": {
        "id": "ekHSmIY_7bVK"
      },
      "source": [
        "A = np.array([\r\n",
        "              [2,4],\r\n",
        "              [-6,-6]\r\n",
        "])\r\n",
        "B = np.array([\r\n",
        "              [1, 3],\r\n",
        "              [-5,-7]\r\n",
        "])"
      ],
      "execution_count": 32,
      "outputs": []
    },
    {
      "cell_type": "code",
      "metadata": {
        "id": "2uWM0oFZFmTJ",
        "colab": {
          "base_uri": "https://localhost:8080/",
          "height": 0
        },
        "outputId": "918d5b46-bdc4-4d54-a09c-93a05be8d636"
      },
      "source": [
        "## Addition\r\n",
        "A + B"
      ],
      "execution_count": 33,
      "outputs": [
        {
          "output_type": "execute_result",
          "data": {
            "text/plain": [
              "array([[  3,   7],\n",
              "       [-11, -13]])"
            ]
          },
          "metadata": {
            "tags": []
          },
          "execution_count": 33
        }
      ]
    },
    {
      "cell_type": "code",
      "metadata": {
        "id": "BRgjTiETFqzK",
        "colab": {
          "base_uri": "https://localhost:8080/",
          "height": 0
        },
        "outputId": "1f52283f-c6b8-41f7-aed6-23d1274305fe"
      },
      "source": [
        "## Subtraction\r\n",
        "A-B"
      ],
      "execution_count": 34,
      "outputs": [
        {
          "output_type": "execute_result",
          "data": {
            "text/plain": [
              "array([[ 1,  1],\n",
              "       [-1,  1]])"
            ]
          },
          "metadata": {
            "tags": []
          },
          "execution_count": 34
        }
      ]
    },
    {
      "cell_type": "code",
      "metadata": {
        "id": "gaq2uDF1Fr1x",
        "colab": {
          "base_uri": "https://localhost:8080/",
          "height": 0
        },
        "outputId": "d253aa74-7518-4914-e739-e896df803629"
      },
      "source": [
        "## Multiplication\r\n",
        "5*B"
      ],
      "execution_count": 35,
      "outputs": [
        {
          "output_type": "execute_result",
          "data": {
            "text/plain": [
              "array([[  5,  15],\n",
              "       [-25, -35]])"
            ]
          },
          "metadata": {
            "tags": []
          },
          "execution_count": 35
        }
      ]
    },
    {
      "cell_type": "code",
      "metadata": {
        "id": "nmZ5be7lFup5",
        "colab": {
          "base_uri": "https://localhost:8080/",
          "height": 0
        },
        "outputId": "cfc0ec99-1fd3-45a4-b136-616521497701"
      },
      "source": [
        "## Division\r\n",
        "A/(B+1.0e-6)"
      ],
      "execution_count": 36,
      "outputs": [
        {
          "output_type": "execute_result",
          "data": {
            "text/plain": [
              "array([[1.999998  , 1.33333289],\n",
              "       [1.20000024, 0.85714298]])"
            ]
          },
          "metadata": {
            "tags": []
          },
          "execution_count": 36
        }
      ]
    },
    {
      "cell_type": "markdown",
      "metadata": {
        "id": "teroH5PJF1Fw"
      },
      "source": [
        "## Transpose of a Matrix\n",
        "One of the fundamental operations in matrix algebra is Transposition. The transpose of a matrix is done by flipping the values of its elements over its diagonals. With this, the rows and columns from the original matrix will be switched. So for a matrix $A$ its transpose is denoted as $A^T$. So for example:\n",
        "\n",
        "$$A = \\begin{bmatrix} 1 & 2 & 5\\\\5 & -1 &0 \\\\ 0 & -3 & 3\\end{bmatrix} $$\n",
        "$$ A^T = \\begin{bmatrix} 1 & 5 & 0\\\\2 & -1 &-3 \\\\ 5 & 0 & 3\\end{bmatrix}$$\n",
        "This can now be achieved programmatically by using `np.transpose()` or using the `T` method.<br>\n",
        "Check out:\n",
        "* [`np.transpose`](https://numpy.org/doc/stable/reference/generated/numpy.transpose.html)\n"
      ]
    },
    {
      "cell_type": "code",
      "metadata": {
        "id": "GbI3wbxTF3pJ",
        "colab": {
          "base_uri": "https://localhost:8080/",
          "height": 0
        },
        "outputId": "83f79c13-738f-4638-af57-35887dcc73b5"
      },
      "source": [
        "A = np.array([[1,2,5],[5,-1,0],[0,-3,3]])\r\n",
        "print(A)\r\n",
        "print(np.transpose(A))"
      ],
      "execution_count": 56,
      "outputs": [
        {
          "output_type": "stream",
          "text": [
            "[[ 1  2  5]\n",
            " [ 5 -1  0]\n",
            " [ 0 -3  3]]\n",
            "[[ 1  5  0]\n",
            " [ 2 -1 -3]\n",
            " [ 5  0  3]]\n"
          ],
          "name": "stdout"
        }
      ]
    },
    {
      "cell_type": "markdown",
      "metadata": {
        "id": "66BnVMxeF5rB"
      },
      "source": [
        "## Vector Product\n",
        "The inner product of a vector is the sum of the products of each element of the vectors. So given vectors $H$ and $G$ below:\n",
        "$$H=\\begin{bmatrix}1\\\\3\\\\6\\end{bmatrix}, G = \\begin{bmatrix}5\\\\2\\\\1\\end{bmatrix}$$\n",
        "We first take the element-wise product of the vectors:\n",
        "$$H*G = \\begin{bmatrix}5\\\\6\\\\6\\end{bmatrix}$$\n",
        "Then we take the sum of the products, making it the inner product of a vector:\n",
        "$$H\\cdot G = 17$$\n",
        "You can solve for the inner product using an explicit function, `np.inner()` or the `@` operator.<br>\n",
        "Check out:\n",
        "* [`np.inner`](https://numpy.org/doc/stable/reference/generated/numpy.inner.html)"
      ]
    },
    {
      "cell_type": "code",
      "metadata": {
        "id": "-m73UfOQF764",
        "colab": {
          "base_uri": "https://localhost:8080/",
          "height": 0
        },
        "outputId": "0c21e716-517c-4c49-f67d-0b67852cb918"
      },
      "source": [
        "H = np.array([1,3,6])\r\n",
        "G = np.array([5,2,1])\r\n",
        "np.sum(H*G) #Inner Product"
      ],
      "execution_count": 55,
      "outputs": [
        {
          "output_type": "execute_result",
          "data": {
            "text/plain": [
              "17"
            ]
          },
          "metadata": {
            "tags": []
          },
          "execution_count": 55
        }
      ]
    },
    {
      "cell_type": "markdown",
      "metadata": {
        "id": "1yvij6t2F90h"
      },
      "source": [
        "In matrix dot products, we are going to get the sum of products of the vectors by row-column pairs. So if we have two matrices $X$ and $Y$:\n",
        "\n",
        "$$X = \\begin{bmatrix}x_{(0,0)}&x_{(0,1)}\\\\ x_{(1,0)}&x_{(1,1)}\\end{bmatrix}, Y = \\begin{bmatrix}y_{(0,0)}&y_{(0,1)}\\\\ y_{(1,0)}&y_{(1,1)}\\end{bmatrix}$$\n",
        "\n",
        "The dot product will then be computed as:\n",
        "$$X \\cdot Y= \\begin{bmatrix} x_{(0,0)}*y_{(0,0)} + x_{(0,1)}*y_{(1,0)} & x_{(0,0)}*y_{(0,1)} + x_{(0,1)}*y_{(1,1)} \\\\  x_{(1,0)}*y_{(0,0)} + x_{(1,1)}*y_{(1,0)} & x_{(1,0)}*y_{(0,1)} + x_{(1,1)}*y_{(1,1)}\n",
        "\\end{bmatrix}$$\n",
        "\n",
        "So if we assign values to $X$ and $Y$:\n",
        "$$X = \\begin{bmatrix}1&2\\\\0&1\\end{bmatrix}, Y = \\begin{bmatrix}-1&0\\\\ 2&2\\end{bmatrix}$$\n",
        "Check out:\n",
        "* [`np.dot`](https://numpy.org/doc/stable/reference/generated/numpy.inner.html)"
      ]
    },
    {
      "cell_type": "code",
      "metadata": {
        "id": "HdKvvQ4IF-Ep",
        "colab": {
          "base_uri": "https://localhost:8080/",
          "height": 0
        },
        "outputId": "8a9e4aa5-5244-491b-80b6-d316828d69e9"
      },
      "source": [
        "X = np.array([[1,2],[0,1]])\r\n",
        "Y = np.array([[-1,0],[2,2]])\r\n",
        "np.dot(X,Y)"
      ],
      "execution_count": 52,
      "outputs": [
        {
          "output_type": "execute_result",
          "data": {
            "text/plain": [
              "array([[3, 4],\n",
              "       [2, 2]])"
            ]
          },
          "metadata": {
            "tags": []
          },
          "execution_count": 52
        }
      ]
    },
    {
      "cell_type": "markdown",
      "metadata": {
        "id": "_oK1tJptGAER"
      },
      "source": [
        "In matrix dot products there are additional rules compared with vector dot products. Since vector dot products were just in one dimension, there are fewer restrictions. Since now we are dealing with Rank 2 vectors we need to consider some rules:\n",
        "\n",
        "**Rule 1: The inner dimensions of the two matrices in question must be the same.**\n",
        "\n",
        "So given a matrix $A$ with a shape of $(a,b)$ where $a$ and $b$ are any integers. If we want to do a dot product between $A$ and another matrix $B$, then matrix $B$ should have a shape of $(b,c)$ where $b$ and $c$ are any integers. So for given the following matrices:\n",
        "\n",
        "$$A = \\begin{bmatrix}2&4\\\\5&-2\\\\0&1\\end{bmatrix}, B = \\begin{bmatrix}1&1\\\\3&3\\\\-1&-2\\end{bmatrix}, C = \\begin{bmatrix}0&1&1\\\\1&1&2\\end{bmatrix}$$\n",
        "\n",
        "So in this case $A$ has a shape of $(3,2)$, $B$ has a shape of $(3,2)$ and $C$ has a shape of $(2,3)$. So the only matrix pairs that is eligible to perform dot product is matrices $A \\cdot C$, or $B \\cdot C$.  "
      ]
    },
    {
      "cell_type": "code",
      "metadata": {
        "id": "JxDIYsPcGF3p",
        "colab": {
          "base_uri": "https://localhost:8080/",
          "height": 0
        },
        "outputId": "5ca2cf5b-7afd-42eb-99a0-0b75696f5f32"
      },
      "source": [
        "A = np.array([[2,4],[5,-2],[0,1]])\r\n",
        "B = np.array([[1,1],[3,3],[-1,-2]])\r\n",
        "C = np.array([[0,1,1],[1,1,2]])\r\n",
        "A@C"
      ],
      "execution_count": 58,
      "outputs": [
        {
          "output_type": "execute_result",
          "data": {
            "text/plain": [
              "array([[ 4,  6, 10],\n",
              "       [-2,  3,  1],\n",
              "       [ 1,  1,  2]])"
            ]
          },
          "metadata": {
            "tags": []
          },
          "execution_count": 58
        }
      ]
    },
    {
      "cell_type": "markdown",
      "metadata": {
        "id": "MfSjkrITGGOZ"
      },
      "source": [
        "**Rule 2: Dot Product has special properties**\n",
        "\n",
        "Dot products are prevalent in matrix algebra, this implies that it has several unique properties and it should be considered when formulation solutions:\n",
        " 1. $A \\cdot B \\neq B \\cdot A$\n",
        " 2. $A \\cdot (B \\cdot C) = (A \\cdot B) \\cdot C$\n",
        " 3. $A\\cdot(B+C) = A\\cdot B + A\\cdot C$\n",
        " 4. $(B+C)\\cdot A = B\\cdot A + C\\cdot A$\n",
        " 5. $A\\cdot I = A$\n",
        " 6. $A\\cdot \\emptyset = \\emptyset$ "
      ]
    },
    {
      "cell_type": "code",
      "metadata": {
        "id": "g4dRHPVOGlig"
      },
      "source": [
        "import numpy as np\r\n",
        "import matplotlib.pyplot as plt\r\n",
        "%matplotlib inline\r\n",
        "\r\n",
        "A = np.array([\r\n",
        "    [8,-5,6,0],\r\n",
        "    [2,9,-1,9],\r\n",
        "    [0,1,2,3],\r\n",
        "    [5,4,-8,-10]\r\n",
        "])\r\n",
        "B = np.array([\r\n",
        "    [15,20,25,30],\r\n",
        "    [-7,10,2,-12],\r\n",
        "    [30,54,75,29],\r\n",
        "    [22,29,7,5]\r\n",
        "])\r\n",
        "C = np.array([\r\n",
        "    [24,76,91,-9],\r\n",
        "    [35,-8,4,17],\r\n",
        "    [-18,65,-7,13],\r\n",
        "    [10,2,-11,-98]\r\n",
        "])\r\n",
        "N = np.array([\r\n",
        "              \r\n",
        "])"
      ],
      "execution_count": 39,
      "outputs": []
    },
    {
      "cell_type": "code",
      "metadata": {
        "colab": {
          "base_uri": "https://localhost:8080/",
          "height": 0
        },
        "id": "edRlI0709WsN",
        "outputId": "44c2b30e-2015-49e3-a753-6f64950b698a"
      },
      "source": [
        "(A @ B) == (B @ A)"
      ],
      "execution_count": 44,
      "outputs": [
        {
          "output_type": "execute_result",
          "data": {
            "text/plain": [
              "array([[False, False, False, False],\n",
              "       [False, False, False, False],\n",
              "       [False, False, False, False],\n",
              "       [False, False, False, False]])"
            ]
          },
          "metadata": {
            "tags": []
          },
          "execution_count": 44
        }
      ]
    },
    {
      "cell_type": "code",
      "metadata": {
        "colab": {
          "base_uri": "https://localhost:8080/",
          "height": 0
        },
        "id": "9wi-a6wQ9dFU",
        "outputId": "4423ffda-b541-4451-8186-1cb7e4fa3d07"
      },
      "source": [
        "(A @ (B @ C)) == (A @ B) @ C"
      ],
      "execution_count": 45,
      "outputs": [
        {
          "output_type": "execute_result",
          "data": {
            "text/plain": [
              "array([[ True,  True,  True,  True],\n",
              "       [ True,  True,  True,  True],\n",
              "       [ True,  True,  True,  True],\n",
              "       [ True,  True,  True,  True]])"
            ]
          },
          "metadata": {
            "tags": []
          },
          "execution_count": 45
        }
      ]
    },
    {
      "cell_type": "code",
      "metadata": {
        "colab": {
          "base_uri": "https://localhost:8080/",
          "height": 0
        },
        "id": "9-THdeYi9hBA",
        "outputId": "734f980c-2c70-48b1-dabf-f7cdf27678f9"
      },
      "source": [
        "(A @ (B + C)) == (A @ B + A @ C)"
      ],
      "execution_count": 47,
      "outputs": [
        {
          "output_type": "execute_result",
          "data": {
            "text/plain": [
              "array([[ True,  True,  True,  True],\n",
              "       [ True,  True,  True,  True],\n",
              "       [ True,  True,  True,  True],\n",
              "       [ True,  True,  True,  True]])"
            ]
          },
          "metadata": {
            "tags": []
          },
          "execution_count": 47
        }
      ]
    },
    {
      "cell_type": "code",
      "metadata": {
        "colab": {
          "base_uri": "https://localhost:8080/",
          "height": 0
        },
        "id": "NUM8XLDI9lh9",
        "outputId": "16a16b73-696b-4a1c-dc05-a215abe660f8"
      },
      "source": [
        "((B + C) @ A) == (B @ A + C @ A)"
      ],
      "execution_count": 48,
      "outputs": [
        {
          "output_type": "execute_result",
          "data": {
            "text/plain": [
              "array([[ True,  True,  True,  True],\n",
              "       [ True,  True,  True,  True],\n",
              "       [ True,  True,  True,  True],\n",
              "       [ True,  True,  True,  True]])"
            ]
          },
          "metadata": {
            "tags": []
          },
          "execution_count": 48
        }
      ]
    },
    {
      "cell_type": "code",
      "metadata": {
        "colab": {
          "base_uri": "https://localhost:8080/",
          "height": 0
        },
        "id": "b9_vcdzp9peJ",
        "outputId": "d05ff439-3b41-45ea-99fc-d00f03066a2d"
      },
      "source": [
        "A @ np.eye(4) == A"
      ],
      "execution_count": 49,
      "outputs": [
        {
          "output_type": "execute_result",
          "data": {
            "text/plain": [
              "array([[ True,  True,  True,  True],\n",
              "       [ True,  True,  True,  True],\n",
              "       [ True,  True,  True,  True],\n",
              "       [ True,  True,  True,  True]])"
            ]
          },
          "metadata": {
            "tags": []
          },
          "execution_count": 49
        }
      ]
    },
    {
      "cell_type": "code",
      "metadata": {
        "id": "wfMSkzmD9r5m"
      },
      "source": [
        "A @ N\r\n",
        "\r\n",
        "#will have an error since null set consist of no rows and columns whereas the rule in multiplication, it should have the same dimensions therefore it is null."
      ],
      "execution_count": null,
      "outputs": []
    },
    {
      "cell_type": "markdown",
      "metadata": {
        "id": "IMysYX4QGiuQ"
      },
      "source": [
        "## Determinants\n",
        "A determinant is a scalar value derived from a square matrix. The determinant is a fundamental and important value used in matrix algebra. \n",
        "\n",
        "The determinant of some matrix $A$ is denoted as $det(A)$ or $|A|$. So let's say $A$ is represented as:\n",
        "$$A = \\begin{bmatrix}a_{(0,0)}&a_{(0,1)}\\\\a_{(1,0)}&a_{(1,1)}\\end{bmatrix}$$\n",
        "We can compute for the determinant as:\n",
        "$$|A| = a_{(0,0)}*a_{(1,1)} - a_{(1,0)}*a_{(0,1)}$$\n",
        "So if we have $A$ as:\n",
        "$$A = \\begin{bmatrix}1&4\\\\0&3\\end{bmatrix}, |A| = 3$$\n",
        "\n",
        "But you might wonder how about square matrices beyond the shape $(2,2)$? We can approach this problem by using several methods such as co-factor expansion and the minors method. This can be taught in the lecture of the laboratory but we can achieve the strenuous computation of high-dimensional matrices programmatically using Python. We can achieve this by using [`np.linalg.det`](https://numpy.org/doc/stable/reference/generated/numpy.linalg.det.html)."
      ]
    },
    {
      "cell_type": "code",
      "metadata": {
        "id": "Sj5X1o_mGIRg",
        "colab": {
          "base_uri": "https://localhost:8080/",
          "height": 0
        },
        "outputId": "f254aba0-1ce6-4b88-ef83-36b139af6b69"
      },
      "source": [
        "A = np.array([[1,4],[0,3]])\r\n",
        "det_A = np.linalg.det(A)\r\n",
        "det_A"
      ],
      "execution_count": 60,
      "outputs": [
        {
          "output_type": "execute_result",
          "data": {
            "text/plain": [
              "3.0000000000000004"
            ]
          },
          "metadata": {
            "tags": []
          },
          "execution_count": 60
        }
      ]
    },
    {
      "cell_type": "markdown",
      "metadata": {
        "id": "7j3EPb9ZGsdI"
      },
      "source": [
        "## 2.6 Matrix Inverse\n",
        "\n",
        "The inverse of a matrix is another fundamental operation in matrix algebra. Determining the inverse of a matrix let us determine if its solvability and its characteristic as a system of linear equation. Another use of the inverse matrix is solving the problem of divisibility between matrices. Although element-wise division exist but dividing the entire concept of matrices does not exists. Inverse matrices provide a related operation that could have the same concept of \"dividing\" matrices.\n",
        "\n",
        "Now to determine the inverse of a matrix we need to perform several steps. So let's say we have a matrix $M$:\n",
        "$$M = \\begin{bmatrix}1&7\\\\-3&5\\end{bmatrix}$$\n",
        "First, we need to get the determinant of $M$.\n",
        "$$|M| = (1)(5)-(-3)(7) = 26$$\n",
        "Next, we need to reform the matrix into the inverse form:\n",
        "$$M^{-1} = \\frac{1}{|M|} \\begin{bmatrix} m_{(1,1)} & -m_{(0,1)} \\\\ -m_{(1,0)} & m_{(0,0)}\\end{bmatrix}$$\n",
        "So that will be:\n",
        "$$M^{-1} = \\frac{1}{26} \\begin{bmatrix} 5 & -7 \\\\ 3 & 1\\end{bmatrix} = \\begin{bmatrix} \\frac{5}{26} & \\frac{-7}{26} \\\\ \\frac{3}{26} & \\frac{1}{26}\\end{bmatrix}$$\n",
        "For higher-dimension matrices, you might need to use co-factors, minors, adjugates, and other reduction techniques. To solve this programmatically we can use [`np.linalg.inv`](https://numpy.org/doc/stable/reference/generated/numpy.linalg.inv.html).\n",
        "\n",
        "To validate the wether if the matric that you have solved is really the inverse, we follow this dot product property for a matrix $M$:\n",
        "$$M\\cdot M^{-1} = I$$"
      ]
    },
    {
      "cell_type": "code",
      "metadata": {
        "id": "no8zVYLmGuJ9",
        "colab": {
          "base_uri": "https://localhost:8080/",
          "height": 0
        },
        "outputId": "30a677b2-b785-4e83-95fc-158261ee373f"
      },
      "source": [
        "M = np.array([[1,7],[-3,5]])\r\n",
        "M_inv = np.linalg.inv(M)\r\n",
        "M_inv"
      ],
      "execution_count": 61,
      "outputs": [
        {
          "output_type": "execute_result",
          "data": {
            "text/plain": [
              "array([[ 0.19230769, -0.26923077],\n",
              "       [ 0.11538462,  0.03846154]])"
            ]
          },
          "metadata": {
            "tags": []
          },
          "execution_count": 61
        }
      ]
    },
    {
      "cell_type": "markdown",
      "metadata": {
        "id": "hmNLmGPvGuig"
      },
      "source": [
        "# System of Linear Equations\n",
        "\n",
        "Solving linear equations is one of the fundamental skills of higher engineering mathematics. Aside from solving them, we must be skilled enough to spot them in the wild as well.\n",
        "\n",
        "Given an equation:\n",
        "$$\n",
        "B = \\left\\{\n",
        "    \\begin{array}\\\\\n",
        "        x+y+z=1\\\\ \n",
        "        3x -2y -z=4 \\\\\n",
        "        -x + 4y +2z=-3\n",
        "    \\end{array}\n",
        "\\right. $$\n",
        "\n",
        "We can represent it in matrix form considering the linear combination of the equations. We can also think of its dot product form:\n",
        "$$\n",
        "\\begin{bmatrix}1&1&1\\\\3&-2&-1\\\\-1&4&2\\end{bmatrix} \\cdot \\begin{bmatrix}x\\\\ y\\\\ z\\end{bmatrix} = \\begin{bmatrix}1\\\\4\\\\-3\\end{bmatrix}\n",
        "$$\n",
        "We can make a general form for this equation by putting our matrices and vectors as variables. So let's say that the matrix $\\begin{bmatrix}1&1&1\\\\3&-2&-1\\\\-1&4&2\\end{bmatrix}$ is $X$ and $\\begin{bmatrix}x\\\\ y\\\\ z\\end{bmatrix} = \\begin{bmatrix}x\\\\y\\\\z\\end{bmatrix}$ is the vector $r$ then the answer $\\begin{bmatrix}1\\\\4\\\\-3\\end{bmatrix}$ as $Y$. So we'll have:\n",
        "$$\n",
        "X r = Y\n",
        "$$\n",
        "Our goal is to solve for $r$ so we can solve it algebraically by multiplying both sides with the inverse of $X$, so we'll get:\n",
        "$$\n",
        "X^{-1}X r = X^{-1}Y\\\\\n",
        "Ir = X^{-1}Y\\\\\n",
        "r = X^{-1}Y\n",
        "$$\n",
        "We'll take $r = X^{-1}Y$ as the $\\textbf{vectorized}$ equation as our formula in solving for the vector $r$ or simply solving for $x,y,$and$z$. We can then code that as:"
      ]
    },
    {
      "cell_type": "code",
      "metadata": {
        "id": "GzoKTOWMG8Hh",
        "colab": {
          "base_uri": "https://localhost:8080/",
          "height": 265
        },
        "outputId": "08c87db4-0794-403f-c111-3255f0529e81"
      },
      "source": [
        "A = np.array([\r\n",
        "    [1, 7],\r\n",
        "    [3, 10]\r\n",
        "])\r\n",
        "\r\n",
        "plt.xlim(0,15)\r\n",
        "plt.ylim(0,15)\r\n",
        "\r\n",
        "plt.quiver(0,0, A[0,0], A[0,1], angles='xy', scale_units='xy',scale=1, color='red') \r\n",
        "plt.quiver(0,0, A[1,0], A[1,1], angles='xy', scale_units='xy',scale=1, color='blue')\r\n",
        "\r\n",
        "\r\n",
        "plt.quiver([0,0],[0,0], A[:,0], A[:,1], \r\n",
        "           angles='xy', scale_units='xy',scale=1, \r\n",
        "           color=['red','blue'])## use column spaces\r\n",
        "plt.show()"
      ],
      "execution_count": 62,
      "outputs": [
        {
          "output_type": "display_data",
          "data": {
            "image/png": "[encoded data removed]",
            "text/plain": [
              "<Figure size 432x288 with 1 Axes>"
            ]
          },
          "metadata": {
            "tags": [],
            "needs_background": "light"
          }
        }
      ]
    },
    {
      "cell_type": "markdown",
      "metadata": {
        "id": "h9cOTHv2IpS4"
      },
      "source": [
        "### Visualizing Vectors\n",
        "\n",
        "So far I know you have been experiencing mathematical exhaustion due to all these mathematical expressions. Allow me to show you a tad more interesting side of Linear Algebra.\n",
        "\n",
        "Undoubtedly, one of the most interesting and frustrating parts of Data Analysts and Data Scientist is visualizing data. Although we will be visualizing more on matrices and tensors. So, bear with me here and I'll try to spark a bit of interest in you guys. "
      ]
    },
    {
      "cell_type": "code",
      "metadata": {
        "id": "Q2hEQblFIsAo"
      },
      "source": [
        "### If you haven't installed it use:\n",
        "#!pip install matplotlib\n",
        "\n",
        "import matplotlib.pyplot as plt"
      ],
      "execution_count": null,
      "outputs": []
    },
    {
      "cell_type": "markdown",
      "metadata": {
        "id": "yTjmJzzfItuQ"
      },
      "source": [
        "#### <i>2D Cartersian Plots</i>\n",
        "Check out:\n",
        "* [`matplotlib.pyplot.xlim`](https://matplotlib.org/3.3.3/api/_as_gen/matplotlib.pyplot.xlim.html)\n",
        "* [`matplotlib.pyplot.ylim`](https://matplotlib.org/3.3.3/api/_as_gen/matplotlib.pyplot.ylim.html)\n",
        "* [`matplotlib.pyplot.quiver`](https://matplotlib.org/3.3.3/api/_as_gen/matplotlib.pyplot.quiver.html)\n",
        "* [`matplotlib.pyplot.grid`](https://matplotlib.org/3.3.3/api/_as_gen/matplotlib.pyplot.grid.html)\n",
        "* [`matplotlib.pyplot.show`](https://matplotlib.org/3.3.3/api/_as_gen/matplotlib.pyplot.show.html)"
      ]
    },
    {
      "cell_type": "code",
      "metadata": {
        "id": "hg52Q9AKIvbI",
        "outputId": "375f1cde-8319-4f56-8827-695acc0d153b"
      },
      "source": [
        "import numpy as np\n",
        "import matplotlib.pyplot as plt\n",
        "%matplotlib inline\n",
        "import math\n",
        "\n",
        "vector1 = np.array([5,22,20,1])\n",
        "vector2 = np.array([10,29,19,93])\n",
        "vector3 = np.array([7,22,20,20])\n",
        "vector4 = np.array([5,11,19,60])\n",
        "vector5 = np.array([11,3,19,92])\n",
        "vector6 = np.array([10,2,19,64])\n",
        "\n",
        "def calc_euclidean_norm(list):\n",
        "    # Get the square of all the elements in list and store to a new list elem_sqrd\n",
        "    elem_sqrd = [elem * elem for elem in list]\n",
        "    \n",
        "    # Get the length of the list/elem_sqrd\n",
        "    list_len = len(elem_sqrd)\n",
        "    \n",
        "    # Initialize variable for the sum of the elements in elem_sqrd list\n",
        "    sum_elem_sqrd = 0\n",
        "    \n",
        "    # Loop through the new list elem_sqrd and add the elements to the variable sum_elem_sqrd\n",
        "    for elems in range(list_len):\n",
        "        sum_elem_sqrd = sum_elem_sqrd + elem_sqrd[elems];\n",
        "        \n",
        "    # Square root the sum_elem_sqrd variable to get the Euclidean Norm\n",
        "    calculated_euc_norm = math.sqrt(sum_elem_sqrd)\n",
        "    \n",
        "    # Return the result\n",
        "    return calculated_euc_norm\n",
        "\n",
        "print(\"Calculated Euclidean Norm of all the vectors given\")\n",
        "print(\"Vector1 Euclidean Norm: \", calc_euclidean_norm(vector1))\n",
        "print(\"Vector2 Euclidean Norm: \", calc_euclidean_norm(vector2))\n",
        "print(\"Vector3 Euclidean Norm: \", calc_euclidean_norm(vector3))\n",
        "print(\"Vector4 Euclidean Norm: \", calc_euclidean_norm(vector4))\n",
        "print(\"Vector5 Euclidean Norm: \", calc_euclidean_norm(vector5))\n",
        "print(\"Vector6 Euclidean Norm: \", calc_euclidean_norm(vector6))"
      ],
      "execution_count": null,
      "outputs": [
        {
          "output_type": "stream",
          "text": [
            "Calculated Euclidean Norm of all the vectors given\n",
            "Vector1 Euclidean Norm:  30.166206257996713\n",
            "Vector2 Euclidean Norm:  99.75469913743412\n",
            "Vector3 Euclidean Norm:  36.51027252705737\n",
            "Vector4 Euclidean Norm:  64.08587988004847\n",
            "Vector5 Euclidean Norm:  94.63086177352503\n",
            "Vector6 Euclidean Norm:  67.53517601961218\n"
          ],
          "name": "stdout"
        }
      ]
    },
    {
      "cell_type": "markdown",
      "metadata": {
        "id": "dUyyp3HaBRsd"
      },
      "source": [
        "**Visualizing Vectors**\r\n",
        "\r\n",
        "The function calc_euclidean_norm computes for the Euclidean norm of any given vectors. The function first accepts a parameter of list type. It then gets the square of the elements within the list and stores it in a new list called elem_sqrd. The list elem_sqrd is then measure to know how many elements it has. Then function then loops through the list elem_sqrd and adds all elements(stores the sum to a variable named sum_elem_sqrd). The variable sum_elem_sqrd is then square-rooted to get the Euclidean norm and stores to a variable called calculated_euc_norm. The function then returns the value of calculated_euc_norm."
      ]
    },
    {
      "cell_type": "markdown",
      "metadata": {
        "id": "06hJJe31I85Y"
      },
      "source": [
        "## Practice 1: Modulus of a Vector\n",
        "The modulus of a vector or the magnitude of a vector can be determined using the Pythagorean theorem. Given the vector $A$ and its scalars denoted as $a_n$ where $n$ is the index of the scalar. So if we have:\n",
        "$$A = \\begin{bmatrix}1\\\\2\\end{bmatrix}$$\n",
        "We can compute the magnitude as:\n",
        "$$||A|| = \\sqrt{a_1^2 + a_2^2} = \\sqrt{1^2 + 2^2} = \\sqrt{5}$$\n",
        "So if we have a matrix with more parameters such as:\n",
        "$$B=\\begin{bmatrix}2\\\\5\\\\-1\\\\0\\end{bmatrix}$$\n",
        "We can generalize the Pythagorean theorem to compute for the magnitude as:\n",
        "$$||B|| = \\sqrt{b_1^2 + b_2^2 + b_3^2 + ... +b_n^2} = \\sqrt{\\sum_{n=1}^{N}b_n^2}$$\n",
        "And this equation is now called a Euclidian distance or the Euclidean Norm. "
      ]
    },
    {
      "cell_type": "code",
      "metadata": {
        "id": "evLYDA2dI9XQ"
      },
      "source": [
        ""
      ],
      "execution_count": null,
      "outputs": []
    },
    {
      "cell_type": "markdown",
      "metadata": {
        "id": "BrzGwH5cI-Aw"
      },
      "source": [
        "## Practice 2: The Sigmoid\n",
        "The sigmoid function is one of the popular Activation Functions which we will discuss later on. The sigmoid is a bounded, differentiable, real function in which its range would be any value from 0 to 1. It is widely used in binary classifications.\n",
        "![image](https://upload.wikimedia.org/wikipedia/commons/thumb/8/88/Logistic-curve.svg/1200px-Logistic-curve.svg.png)\n",
        "If we were to check the equation characterizing this curve in textbooks or journals it would be:\n",
        "$$sig(x)=\\frac{1}{1+e^{-x}}$$\n",
        "or\n",
        "$$\\sigma(x)=\\frac{1}{1+e^{-x}}$$\n",
        "So let's try to translate this in NumPy. You might want to use [`numpy.exp`](https://numpy.org/doc/stable/reference/generated/numpy.exp.html) for this function. <br>\n",
        "If you want to read more about the sigmoid function click [here](https://medium.com/@himanshuxd/activation-functions-sigmoid-relu-leaky-relu-and-softmax-basics-for-neural-networks-and-deep-8d9c70eed91e)."
      ]
    },
    {
      "cell_type": "code",
      "metadata": {
        "id": "4UTUaj1pJAH3",
        "outputId": "d2f08d3e-fda3-4d08-d2a1-aa87f219707d"
      },
      "source": [
        "import numpy as np\n",
        "import matplotlib.pyplot as plt\n",
        "%matplotlib inline\n",
        "import math\n",
        "\n",
        "# Generate 50 elements with equal intervals from -6 to 6\n",
        "input1 = np.linspace(-6, 6, 50)\n",
        "\n",
        "def get_sigmoid(x):\n",
        "    # Compute for the sigmoid equivalent of the given linspace input1\n",
        "    sigmoid_res = 1 / (1 + np.exp(-x))\n",
        "    \n",
        "    # Returns the result\n",
        "    return sigmoid_res\n",
        "\n",
        "print(\"Sigmoid equivalent: \", get_sigmoid(input1))"
      ],
      "execution_count": null,
      "outputs": [
        {
          "output_type": "stream",
          "text": [
            "Sigmoid equivalent:  [0.00247262 0.00315659 0.00402898 0.00514124 0.00655853 0.00836325\n",
            " 0.01065923 0.01357692 0.01727929 0.0219688  0.02789489 0.03536175\n",
            " 0.04473535 0.05644827 0.07100002 0.08894941 0.11089489 0.13743793\n",
            " 0.16912564 0.2063713  0.2493577  0.29793663 0.35154728 0.40918225\n",
            " 0.46942595 0.53057405 0.59081775 0.64845272 0.70206337 0.7506423\n",
            " 0.7936287  0.83087436 0.86256207 0.88910511 0.91105059 0.92899998\n",
            " 0.94355173 0.95526465 0.96463825 0.97210511 0.9780312  0.98272071\n",
            " 0.98642308 0.98934077 0.99163675 0.99344147 0.99485876 0.99597102\n",
            " 0.99684341 0.99752738]\n"
          ],
          "name": "stdout"
        }
      ]
    },
    {
      "cell_type": "markdown",
      "metadata": {
        "id": "0krDLdELBhb-"
      },
      "source": [
        "**The Sigmoid**\r\n",
        "\r\n",
        "The function get_sigmoid computes for the sigmoid equivalent of a given input. The function accepts a given linspaced vector. It then computes for the sigmoid equivalent by using the formula 1/(1+e^-x) directly. Where x is the passed parameter. Then the function simply returns the result(sigmoid_res where the final value is stored)."
      ]
    }
  ]
}